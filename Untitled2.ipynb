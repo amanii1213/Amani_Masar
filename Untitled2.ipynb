{
  "nbformat": 4,
  "nbformat_minor": 0,
  "metadata": {
    "colab": {
      "provenance": [],
      "authorship_tag": "ABX9TyMFXNjQBk58ifkIx55bFeHr",
      "include_colab_link": true
    },
    "kernelspec": {
      "name": "python3",
      "display_name": "Python 3"
    },
    "language_info": {
      "name": "python"
    }
  },
  "cells": [
    {
      "cell_type": "markdown",
      "metadata": {
        "id": "view-in-github",
        "colab_type": "text"
      },
      "source": [
        "<a href=\"https://colab.research.google.com/github/amanii1213/Amani_Masar/blob/main/Untitled2.ipynb\" target=\"_parent\"><img src=\"https://colab.research.google.com/assets/colab-badge.svg\" alt=\"Open In Colab\"/></a>"
      ]
    },
    {
      "cell_type": "code",
      "source": [],
      "metadata": {
        "id": "N7nhoMUd1dug"
      },
      "execution_count": null,
      "outputs": []
    },
    {
      "cell_type": "code",
      "source": [
        "##\n",
        "n = 10\n",
        "\n",
        "##\n",
        "for i in range(n):\n",
        "\n",
        "  for j in range(n-i):\n",
        "\n",
        "    print(end=' ')\n",
        "\n",
        "  for j in range (0, i + 1):\n",
        "\n",
        "    print(\"*\", end ='')\n",
        "\n",
        "  print(\" \")"
      ],
      "metadata": {
        "colab": {
          "base_uri": "https://localhost:8080/"
        },
        "id": "XET9CzNLwHy1",
        "outputId": "1ee986d6-1abd-4eb6-93d1-0be661b596d3"
      },
      "execution_count": 27,
      "outputs": [
        {
          "output_type": "stream",
          "name": "stdout",
          "text": [
            "          * \n",
            "         ** \n",
            "        *** \n",
            "       **** \n",
            "      ***** \n",
            "     ****** \n",
            "    ******* \n",
            "   ******** \n",
            "  ********* \n",
            " ********** \n"
          ]
        }
      ]
    },
    {
      "cell_type": "code",
      "source": [
        "##\n",
        "n = 10\n",
        "\n",
        "##\n",
        "for i in range(n):\n",
        "\n",
        "  for j in range(i):\n",
        "\n",
        "    print(\"*\", end =\"\")\n",
        "\n",
        "  print(' ')"
      ],
      "metadata": {
        "colab": {
          "base_uri": "https://localhost:8080/"
        },
        "id": "pJohlMx90ep6",
        "outputId": "9a1ac5a1-f738-4a6e-fd17-7918042fc78c"
      },
      "execution_count": 29,
      "outputs": [
        {
          "output_type": "stream",
          "name": "stdout",
          "text": [
            " \n",
            "* \n",
            "** \n",
            "*** \n",
            "**** \n",
            "***** \n",
            "****** \n",
            "******* \n",
            "******** \n",
            "********* \n"
          ]
        }
      ]
    },
    {
      "cell_type": "code",
      "execution_count": 2,
      "metadata": {
        "colab": {
          "base_uri": "https://localhost:8080/"
        },
        "id": "48e5xGdiuN5K",
        "outputId": "6fa6b1a4-a3d7-4624-ceb5-b3c81700447d"
      },
      "outputs": [
        {
          "output_type": "stream",
          "name": "stdout",
          "text": [
            "11\n",
            "13\n",
            "17\n"
          ]
        }
      ],
      "source": [
        "def is_prime(num):\n",
        "    \"\"\"Check if a number is prime.\"\"\"\n",
        "    if num < 2:\n",
        "        return False\n",
        "    for i in range(2, int(num**0.5) + 1):\n",
        "        if num % i == 0:\n",
        "            return False\n",
        "    return True\n",
        "\n",
        "# Find the first 3 prime numbers greater than 10 but less than 99\n",
        "count = 0\n",
        "number = 11  # Start checking from 11\n",
        "\n",
        "while count < 3:\n",
        "    if is_prime(number):\n",
        "        print(number)\n",
        "        count += 1\n",
        "    number += 1"
      ]
    }
  ]
}