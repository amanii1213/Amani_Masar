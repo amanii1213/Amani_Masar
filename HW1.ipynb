{
  "nbformat": 4,
  "nbformat_minor": 0,
  "metadata": {
    "colab": {
      "provenance": [],
      "authorship_tag": "ABX9TyMgNiriHt5b/50abImFYhN7",
      "include_colab_link": true
    },
    "kernelspec": {
      "name": "python3",
      "display_name": "Python 3"
    },
    "language_info": {
      "name": "python"
    }
  },
  "cells": [
    {
      "cell_type": "markdown",
      "metadata": {
        "id": "view-in-github",
        "colab_type": "text"
      },
      "source": [
        "<a href=\"https://colab.research.google.com/github/amanii1213/Amani_Masar/blob/main/HW1.ipynb\" target=\"_parent\"><img src=\"https://colab.research.google.com/assets/colab-badge.svg\" alt=\"Open In Colab\"/></a>"
      ]
    },
    {
      "cell_type": "code",
      "execution_count": null,
      "metadata": {
        "colab": {
          "base_uri": "https://localhost:8080/"
        },
        "id": "V44WtdCmef-P",
        "outputId": "d997d911-07fc-40b9-b4ef-0921231b99da"
      },
      "outputs": [
        {
          "output_type": "stream",
          "name": "stdout",
          "text": [
            "Hello My name is Amani and My age is 27 I have the two best children Fahd and Bana and I hope to be the best professor in data science\n"
          ]
        }
      ],
      "source": [
        "# Definition of variable name\n",
        "name = 'Amani'\n",
        "#Definition of variable age\n",
        "age = 27\n",
        "age_str= str(age)\n",
        "# the print\n",
        "print('Hello' ,'My name is ' + name , 'and My age is ' + age_str ,'I have the two best children Fahd and Bana','and I hope to be the best professor in data science')"
      ]
    }
  ]
}