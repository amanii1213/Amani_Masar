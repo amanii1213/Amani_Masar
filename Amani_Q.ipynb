{
  "nbformat": 4,
  "nbformat_minor": 0,
  "metadata": {
    "colab": {
      "provenance": [],
      "authorship_tag": "ABX9TyMhA6xB7FYhKoVV+jRmtTD/",
      "include_colab_link": true
    },
    "kernelspec": {
      "name": "python3",
      "display_name": "Python 3"
    },
    "language_info": {
      "name": "python"
    }
  },
  "cells": [
    {
      "cell_type": "markdown",
      "metadata": {
        "id": "view-in-github",
        "colab_type": "text"
      },
      "source": [
        "<a href=\"https://colab.research.google.com/github/amanii1213/Amani_Masar/blob/main/Amani_Q.ipynb\" target=\"_parent\"><img src=\"https://colab.research.google.com/assets/colab-badge.svg\" alt=\"Open In Colab\"/></a>"
      ]
    },
    {
      "cell_type": "code",
      "execution_count": 4,
      "metadata": {
        "colab": {
          "base_uri": "https://localhost:8080/"
        },
        "id": "Q5TuCVyK2KUm",
        "outputId": "cb1d2890-1335-478f-f303-fec9ade1b57e"
      },
      "outputs": [
        {
          "output_type": "stream",
          "name": "stdout",
          "text": [
            "[0, 5]\n"
          ]
        }
      ],
      "source": [
        "def two_sum(nums, target):\n",
        "#\n",
        "  num_dict ={}\n",
        "#loop\n",
        "  for i, num in enumerate (nums):\n",
        "    difference = target - num\n",
        "\n",
        "    if difference in num_dict:\n",
        "\n",
        "      return [num_dict[difference],i]\n",
        "\n",
        "\n",
        "    num_dict[num] = i\n",
        "\n",
        "  return None\n",
        "\n",
        "#Example :\n",
        "nums = [2,5,11,15,6,7,9,10]\n",
        "target = 9\n",
        "print(two_sum(nums,target))"
      ]
    },
    {
      "cell_type": "code",
      "source": [
        "def calculate_sum(a, b=20):\n",
        "    return a + b\n",
        "#\n",
        "print(calculate_sum(3,2))\n",
        "print(calculate_sum(5))"
      ],
      "metadata": {
        "colab": {
          "base_uri": "https://localhost:8080/"
        },
        "id": "iKMdLhcF4KB1",
        "outputId": "55d0f6fc-33c7-467b-f320-27c941691614"
      },
      "execution_count": 9,
      "outputs": [
        {
          "output_type": "stream",
          "name": "stdout",
          "text": [
            "5\n",
            "25\n"
          ]
        }
      ]
    }
  ]
}