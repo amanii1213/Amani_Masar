{
  "nbformat": 4,
  "nbformat_minor": 0,
  "metadata": {
    "colab": {
      "provenance": [],
      "authorship_tag": "ABX9TyMOiz/p5E7lNHw67u6lT3sY",
      "include_colab_link": true
    },
    "kernelspec": {
      "name": "python3",
      "display_name": "Python 3"
    },
    "language_info": {
      "name": "python"
    }
  },
  "cells": [
    {
      "cell_type": "markdown",
      "metadata": {
        "id": "view-in-github",
        "colab_type": "text"
      },
      "source": [
        "<a href=\"https://colab.research.google.com/github/amanii1213/Amani_Masar/blob/main/Amani_if%20con.ipynb\" target=\"_parent\"><img src=\"https://colab.research.google.com/assets/colab-badge.svg\" alt=\"Open In Colab\"/></a>"
      ]
    },
    {
      "cell_type": "code",
      "source": [
        "def calculate_bonus(years, evaluation):\n",
        "    if years <= 10 and evaluation == \"Excellent\":\n",
        "            bonus_percentage = 0.10\n",
        "    elif years <= 10 and evaluation == \"Poor\":\n",
        "            bonus_percentage = 0.05\n",
        "\n",
        "    elif years >= 11 and evaluation == \"Excellent\":\n",
        "            bonus_percentage = 0.20\n",
        "\n",
        "    elif  years >= 11 and evaluation == \"Poor\":\n",
        "            bonus_percentage = 0.15\n",
        "\n",
        "    else:\n",
        "            bonus_percentage = 0\n",
        "\n",
        "    return bonus_percentage\n",
        "\n",
        "\n",
        "# تعيين القيم\n",
        "employee_years = 14\n",
        "employee_evaluation = \"Excellent\"\n",
        "\n",
        "# حساب المكافأة\n",
        "bonus = calculate_bonus(employee_years, employee_evaluation)\n",
        "\n",
        "# طباعة نتيجة الحساب\n",
        "print(\"bonus rate =\",bonus * 100,\"%\")"
      ],
      "metadata": {
        "colab": {
          "base_uri": "https://localhost:8080/"
        },
        "id": "u_r2F4hUs5zm",
        "outputId": "7e98558e-7b37-4ae3-ae61-313451db9e96"
      },
      "execution_count": 24,
      "outputs": [
        {
          "output_type": "stream",
          "name": "stdout",
          "text": [
            "bonus rate = 20.0 %\n"
          ]
        }
      ]
    }
  ]
}